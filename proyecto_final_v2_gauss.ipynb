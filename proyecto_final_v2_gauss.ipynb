{
 "cells": [
  {
   "cell_type": "code",
   "execution_count": 1,
   "metadata": {},
   "outputs": [],
   "source": [
    "#manejar carpetas\n",
    "import os\n",
    "\n",
    "#Cargar bibliotecas necesarias\n",
    "import numpy as np\n",
    "import cv2\n",
    "\n",
    "#graficar\n",
    "import matplotlib.pyplot as plt\n",
    "from matplotlib.pyplot import figure\n",
    "\n",
    "# barra de progreso\n",
    "from tqdm import tqdm\n",
    "\n",
    "from procesamiento_2 import *\n",
    "from segmentacion import * "
   ]
  },
  {
   "cell_type": "code",
   "execution_count": 2,
   "metadata": {},
   "outputs": [
    {
     "data": {
      "text/plain": [
       "'3.4.2'"
      ]
     },
     "execution_count": 2,
     "metadata": {},
     "output_type": "execute_result"
    }
   ],
   "source": [
    "cv2.__version__"
   ]
  },
  {
   "cell_type": "code",
   "execution_count": 3,
   "metadata": {},
   "outputs": [],
   "source": [
    "def CargarArchivo(nombre):\n",
    "    imagen = cv2.imread(nombre) #cargo la imagen\n",
    "    imagen = cv2.resize(imagen, (512, 512)) #Escalar la imagen a múltiplos de 2\n",
    "    return imagen\n",
    "\n",
    "def GuardarArchivo(img, ruta):\n",
    "    cv2.imwrite(ruta, img) "
   ]
  },
  {
   "cell_type": "markdown",
   "metadata": {},
   "source": [
    "## Procesar"
   ]
  },
  {
   "cell_type": "markdown",
   "metadata": {},
   "source": [
    "Las rutas donde se obtendrán las imagenes y donde se guardaraán una vez procesadas"
   ]
  },
  {
   "cell_type": "code",
   "execution_count": 4,
   "metadata": {},
   "outputs": [],
   "source": [
    "ruta   = \"images/\"\n",
    "ruta_procesadas = \"output/\"+\"gauss/\" #nuevo folder por cada prueba distinta significativa"
   ]
  },
  {
   "cell_type": "markdown",
   "metadata": {},
   "source": [
    "Obtener los nombres de las imágenes"
   ]
  },
  {
   "cell_type": "code",
   "execution_count": 5,
   "metadata": {},
   "outputs": [],
   "source": [
    "nombres = os.listdir(ruta)\n",
    "nombres = sorted(nombres)[1:90] #evito el archivo 0 llamado '.ipynb_checkpoints' al empezar en el archivo 1"
   ]
  },
  {
   "cell_type": "code",
   "execution_count": 6,
   "metadata": {},
   "outputs": [
    {
     "data": {
      "text/plain": [
       "'image001.png'"
      ]
     },
     "execution_count": 6,
     "metadata": {},
     "output_type": "execute_result"
    }
   ],
   "source": [
    "nombres[0]"
   ]
  },
  {
   "cell_type": "markdown",
   "metadata": {},
   "source": [
    "Creo el ajuste de contraste CLAHE"
   ]
  },
  {
   "cell_type": "code",
   "execution_count": 7,
   "metadata": {},
   "outputs": [],
   "source": [
    "clahe = cv2.createCLAHE(clipLimit=2.0, tileGridSize=(3,3)) #ventana pequeña para contraste localizado"
   ]
  },
  {
   "cell_type": "code",
   "execution_count": 8,
   "metadata": {},
   "outputs": [],
   "source": [
    "kernel = np.ones((3,3),np.float32)/13 #no hay razon para este kernel"
   ]
  },
  {
   "cell_type": "markdown",
   "metadata": {},
   "source": [
    "Esta celda será el algoritmo, luego se meterá en alguna función"
   ]
  },
  {
   "cell_type": "code",
   "execution_count": 9,
   "metadata": {},
   "outputs": [
    {
     "name": "stderr",
     "output_type": "stream",
     "text": [
      "100%|██████████| 89/89 [12:58<00:00,  8.75s/it]\n"
     ]
    }
   ],
   "source": [
    "for nombre in tqdm(nombres):\n",
    "    #lectura de imagen original\n",
    "    imagen = CargarArchivo(ruta+nombre)\n",
    "    #cargar la capa verde de la imagen\n",
    "    img_gris = imagen[:,:,1]  \n",
    "    #obtener imagen suavisada\n",
    "    img_blur = FiltroGaussiano(img_gris, k=3, sigma=.9)\n",
    "    #ajusto contraste con clahe\n",
    "    img_ajuste = clahe.apply(img_blur)\n",
    "    #Obtener imagen binarizada inversa\n",
    "    img_bin_inv = BinarizarInv(img_ajuste)\n",
    "    #Apertura a la imagen binarizada\n",
    "    img_opening = AperturaImagen(img_bin_inv) \n",
    "    #Segmentar\n",
    "    img_seg = SegmentacionWatershed(imagen,np.uint8(img_opening))\n",
    "    #guardar archivo\n",
    "    GuardarArchivo(img_seg, ruta_procesadas+nombre)"
   ]
  }
 ],
 "metadata": {
  "kernelspec": {
   "display_name": "Python 3",
   "language": "python",
   "name": "python3"
  },
  "language_info": {
   "codemirror_mode": {
    "name": "ipython",
    "version": 3
   },
   "file_extension": ".py",
   "mimetype": "text/x-python",
   "name": "python",
   "nbconvert_exporter": "python",
   "pygments_lexer": "ipython3",
   "version": "3.7.9"
  }
 },
 "nbformat": 4,
 "nbformat_minor": 4
}

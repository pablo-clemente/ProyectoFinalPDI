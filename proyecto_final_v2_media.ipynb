{
 "cells": [
  {
   "cell_type": "markdown",
   "metadata": {},
   "source": [
    "# <font color=\"purple\">**Licenciatura en Tecnologías para la Información en Ciencias**</font>\n",
    "\n",
    "## <font color=\"blue\">**Procesamiento Digital de Imágenes**</font>\n",
    "\n",
    "### <font color=\"blue\">**Proyecto: Segmentación**</font>\n",
    "\n",
    "### Angélica Nayeli Rivas Bedolla:    418128734\n",
    "### Pablo Clemente Moreno:   418125805\n",
    "\n",
    "### Semestre 2021-1\n",
    "\n",
    "### Viernes 05 de febrero de 2021"
   ]
  },
  {
   "cell_type": "markdown",
   "metadata": {},
   "source": [
    "# Introducción"
   ]
  },
  {
   "cell_type": "markdown",
   "metadata": {},
   "source": [
    "La visión por computadora (en inglés Computer Vision) es un campo científico interdisciplinario que se ocupa de cómo pueden hacer las computadoras para obtener una comprensión de alto nivel a partir de imágenes o videos digitales. Desde la perspectiva de la ingeniería, busca automatizar las tareas que puede realizar el sistema visual humano.<br>\n",
    "\n",
    "$\\hspace{11cm}$ <img src=\"./computer_vision.jpeg\"/><br>\n",
    "\n",
    "Para entender qué es la __segmentación__ semántica existen varios niveles de granularidad en los que las computadoras pueden comprender las imágenes. Para cada uno de estos niveles hay un problema definido en el dominio de Computer Vision:<br>\n",
    "$\\hspace{7cm}$<img src=\"./intro_img.png\" width=\"512\"/>\n"
   ]
  },
  {
   "cell_type": "markdown",
   "metadata": {},
   "source": [
    "# Enunciado del problema\n",
    "\n",
    "Diseñar e implementar un algoritmo de segmentación de vasos sanguíneos sobre la base de datos de imágenes DIARETDB1 que contiene 89 imágenes de fondo de ojo. Incluyendo preprocesamiento y segmentación.\n",
    "\n",
    "Para esto es necesario tomar en cuenta la necesidad de aplicar previamente __operaciones puntuales__, __suavisado__, __operaciones morfologicas__, entre otras. Lo anterior, con la finalidad de que la entrada de nuestro algortimo de segmentación se optima y obtener como resultado segmentaciones más precisas."
   ]
  },
  {
   "cell_type": "markdown",
   "metadata": {},
   "source": [
    "# Código fuente"
   ]
  },
  {
   "cell_type": "markdown",
   "metadata": {},
   "source": [
    "## Librerías"
   ]
  },
  {
   "cell_type": "code",
   "execution_count": 1,
   "metadata": {},
   "outputs": [],
   "source": [
    "#manejar carpetas\n",
    "import os\n",
    "\n",
    "#Cargar bibliotecas necesarias\n",
    "import numpy as np\n",
    "import cv2\n",
    "\n",
    "#graficar\n",
    "import matplotlib.pyplot as plt\n",
    "from matplotlib.pyplot import figure\n",
    "\n",
    "# barra de progreso\n",
    "from tqdm import tqdm\n",
    "\n",
    "from procesamiento_2 import *\n",
    "from segmentacion import * "
   ]
  },
  {
   "cell_type": "markdown",
   "metadata": {},
   "source": [
    "Nota: tomar en cuenta la versión para ejecutar el notebook"
   ]
  },
  {
   "cell_type": "code",
   "execution_count": 2,
   "metadata": {},
   "outputs": [
    {
     "data": {
      "text/plain": [
       "'3.4.2'"
      ]
     },
     "execution_count": 2,
     "metadata": {},
     "output_type": "execute_result"
    }
   ],
   "source": [
    "cv2.__version__"
   ]
  },
  {
   "cell_type": "code",
   "execution_count": 3,
   "metadata": {},
   "outputs": [],
   "source": [
    "def CargarArchivo(nombre):\n",
    "    imagen = cv2.imread(nombre) #cargo la imagen\n",
    "    imagen = cv2.resize(imagen, (512, 512)) #Escalar la imagen a múltiplos de 2\n",
    "    return imagen\n",
    "\n",
    "def GuardarArchivo(img, ruta):\n",
    "    cv2.imwrite(ruta, img) "
   ]
  },
  {
   "cell_type": "markdown",
   "metadata": {},
   "source": [
    "## Procesar"
   ]
  },
  {
   "cell_type": "markdown",
   "metadata": {},
   "source": [
    "Las rutas donde se obtendrán las imagenes y donde se guardaraán una vez procesadas"
   ]
  },
  {
   "cell_type": "code",
   "execution_count": 4,
   "metadata": {},
   "outputs": [],
   "source": [
    "ruta   = \"images/\"\n",
    "ruta_procesadas = \"output/\"+\"media/\" #nuevo folder por cada prueba distinta significativa"
   ]
  },
  {
   "cell_type": "markdown",
   "metadata": {},
   "source": [
    "Obtener los nombres de las imágenes"
   ]
  },
  {
   "cell_type": "code",
   "execution_count": 5,
   "metadata": {},
   "outputs": [],
   "source": [
    "nombres = os.listdir(ruta)\n",
    "nombres = sorted(nombres)[1:90] #evito el archivo 0 llamado '.ipynb_checkpoints' al empezar en el archivo 1"
   ]
  },
  {
   "cell_type": "code",
   "execution_count": 6,
   "metadata": {},
   "outputs": [
    {
     "data": {
      "text/plain": [
       "'image001.png'"
      ]
     },
     "execution_count": 6,
     "metadata": {},
     "output_type": "execute_result"
    }
   ],
   "source": [
    "nombres[0]"
   ]
  },
  {
   "cell_type": "markdown",
   "metadata": {},
   "source": [
    "Creo el ajuste de contraste CLAHE"
   ]
  },
  {
   "cell_type": "code",
   "execution_count": 7,
   "metadata": {},
   "outputs": [],
   "source": [
    "clahe = cv2.createCLAHE(clipLimit=2.0, tileGridSize=(3,3)) #ventana pequeña para contraste localizado"
   ]
  },
  {
   "cell_type": "code",
   "execution_count": 8,
   "metadata": {},
   "outputs": [],
   "source": [
    "kernel = np.ones((3,3),np.float32)/13 #no hay razon para este kernel"
   ]
  },
  {
   "cell_type": "markdown",
   "metadata": {},
   "source": [
    "## Algoritmo de Segmentación Watershed"
   ]
  },
  {
   "cell_type": "markdown",
   "metadata": {},
   "source": [
    "Procedimientos:\n",
    "1. Binarización\n",
    "2. Es conveniente eliminar cualquier pequeño ruido blanco en la imagen. Para esto utilizamos la operación morfológica _apertura_\n",
    "3. Detectar el fondo y primer plano. Para esto usamos dilatación y transformación de distancia (respectivamnte)\n",
    "4. Identificar areas desconocidas. Para esto usamos el método _sustract_ con reusltado del paso 3\n",
    "5. Etiquetar conocidas como indicadores\n",
    "6. Marcar como 1 todos los indicadores, así el fondo no es 0, sino 1\n",
    "7. Etiquetar areas desconocidas como 0\n",
    "8. Aplicar Segementación Watershed sobre la imagen origial y resultado de los pasos (5 al 7) "
   ]
  },
  {
   "cell_type": "markdown",
   "metadata": {},
   "source": [
    "Esta celda será el algoritmo, luego se meterá en alguna función"
   ]
  },
  {
   "cell_type": "code",
   "execution_count": 9,
   "metadata": {},
   "outputs": [
    {
     "name": "stderr",
     "output_type": "stream",
     "text": [
      "100%|██████████| 89/89 [13:05<00:00,  8.82s/it]\n"
     ]
    }
   ],
   "source": [
    "for nombre in tqdm(nombres):\n",
    "    #lectura de imagen original\n",
    "    imagen = CargarArchivo(ruta+nombre)\n",
    "    #cargar la capa verde de la imagen\n",
    "    img_gris = imagen[:,:,1] \n",
    "    #obtener imagen suavisada\n",
    "    img_blur = Media(img_gris, kernel)\n",
    "    #ajusto contraste con clahe\n",
    "    img_ajuste = clahe.apply(img_blur)\n",
    "    #Obtener imagen binarizada inversa\n",
    "    img_bin_inv = BinarizarInv(img_ajuste)\n",
    "    #Apertura a la imagen binarizada\n",
    "    img_opening = AperturaImagen(img_bin_inv) \n",
    "    #Segmentar\n",
    "    img_seg = SegmentacionWatershed(imagen,np.uint8(img_opening))\n",
    "    #guardar archivo\n",
    "    GuardarArchivo(img_seg, ruta_procesadas+nombre)"
   ]
  },
  {
   "cell_type": "markdown",
   "metadata": {},
   "source": [
    "## Justificaciones"
   ]
  },
  {
   "cell_type": "markdown",
   "metadata": {},
   "source": [
    "### Filtros\n",
    "\n",
    "El objetivo de usar filtros de suavizado es conseguir que las intensidades de los objetos pequeños se mezclen con el fondo con el fin de detectar los objetos de mayor tamaño, esto reduciendo la variación de intensidad entre pixeles vecinos. Para este problema se propusieron dos filtros: filtro de suavizado de media y filtro de suavizado Gaussiano. La forma en la que funcionan es:\n",
    "\n",
    " - El filtro de suavizado de media asigna al valor actual la media de la vecindad en la que se ubica. \n",
    " - El filtro de suavizado Gaussiano modela una distribución normal en la vecindad y con eso pondera los valores, reduciendo el peso conforme se aleja del pixel actual.\n",
    "\n",
    "Gracias a esto, el filtro de suavizado Gaussiano produce un suavizado más uniforme que el de media. Pero para la aplicación actual, necesitamos un contraste entre los objetos grandes y pequeños.\n",
    "\n",
    "### Parametros\n",
    "\n",
    "Los siguientes parametros fueron definidos a base de prueba y error:\n",
    "- Para Media y Gaussiano con iteraciones > 1 se perdío calidad\n",
    "- Para Dilatación y Apertura se probó con hasta n=25 iteración sin ver reflajado mucha diferencia a 1-2 iteraciones.\n",
    "\n",
    "Resumen:\n",
    "\n",
    "Método | iteraciones | kernel\n",
    "-- | -- | -- | \n",
    "Media | 1 | (3x3)÷13 |\n",
    "Gaussiano | 1 | k=3|\n",
    "Clahe | 1 | grid=3x3| \n",
    "Dilatación| 2 | 3x3| \n",
    "Apertura | 1 | 3x3|"
   ]
  },
  {
   "cell_type": "markdown",
   "metadata": {},
   "source": [
    "## Conclusiones"
   ]
  },
  {
   "cell_type": "code",
   "execution_count": null,
   "metadata": {},
   "outputs": [],
   "source": []
  },
  {
   "cell_type": "markdown",
   "metadata": {},
   "source": [
    "## Referencias"
   ]
  },
  {
   "cell_type": "markdown",
   "metadata": {},
   "source": [
    "- Understanding Semantic Segmentation with UNET. (2019). Retrieved 6 February 2021, from https://towardsdatascience.com/understanding-semantic-segmentation-with-unet-6be4f42d4b47\n",
    "- OpenCV: Image Segmentation with Watershed Algorithm. (2021). Retrieved 5 February 2021, from https://docs.opencv.org/master/d3/db4/tutorial_py_watershed.html"
   ]
  }
 ],
 "metadata": {
  "kernelspec": {
   "display_name": "Python 3",
   "language": "python",
   "name": "python3"
  },
  "language_info": {
   "codemirror_mode": {
    "name": "ipython",
    "version": 3
   },
   "file_extension": ".py",
   "mimetype": "text/x-python",
   "name": "python",
   "nbconvert_exporter": "python",
   "pygments_lexer": "ipython3",
   "version": "3.7.9"
  }
 },
 "nbformat": 4,
 "nbformat_minor": 4
}
